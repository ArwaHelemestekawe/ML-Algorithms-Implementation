{
 "cells": [
  {
   "cell_type": "code",
   "execution_count": 2,
   "metadata": {},
   "outputs": [],
   "source": [
    "import numpy as np\n",
    "import pandas as pd\n",
    "import matplotlib.pyplot as plt\n",
    "from sklearn.discriminant_analysis import LinearDiscriminantAnalysis as LDA\n",
    "from sklearn.model_selection import train_test_split\n",
    "from sklearn.preprocessing import StandardScaler\n",
    "import time\n",
    "from sklearn.metrics import accuracy_score,confusion_matrix\n",
    "from sklearn.svm import SVC\n"
   ]
  },
  {
   "cell_type": "code",
   "execution_count": 3,
   "metadata": {},
   "outputs": [
    {
     "data": {
      "text/html": [
       "<div>\n",
       "<style scoped>\n",
       "    .dataframe tbody tr th:only-of-type {\n",
       "        vertical-align: middle;\n",
       "    }\n",
       "\n",
       "    .dataframe tbody tr th {\n",
       "        vertical-align: top;\n",
       "    }\n",
       "\n",
       "    .dataframe thead th {\n",
       "        text-align: right;\n",
       "    }\n",
       "</style>\n",
       "<table border=\"1\" class=\"dataframe\">\n",
       "  <thead>\n",
       "    <tr style=\"text-align: right;\">\n",
       "      <th></th>\n",
       "      <th>fixed acidity</th>\n",
       "      <th>volatile acidity</th>\n",
       "      <th>citric acid</th>\n",
       "      <th>residual sugar</th>\n",
       "      <th>chlorides</th>\n",
       "      <th>free sulfur dioxide</th>\n",
       "      <th>total sulfur dioxide</th>\n",
       "      <th>density</th>\n",
       "      <th>pH</th>\n",
       "      <th>sulphates</th>\n",
       "      <th>alcohol</th>\n",
       "      <th>quality</th>\n",
       "    </tr>\n",
       "  </thead>\n",
       "  <tbody>\n",
       "    <tr>\n",
       "      <th>0</th>\n",
       "      <td>7.4</td>\n",
       "      <td>0.700</td>\n",
       "      <td>0.00</td>\n",
       "      <td>1.9</td>\n",
       "      <td>0.076</td>\n",
       "      <td>11.0</td>\n",
       "      <td>34.0</td>\n",
       "      <td>0.99780</td>\n",
       "      <td>3.51</td>\n",
       "      <td>0.56</td>\n",
       "      <td>9.4</td>\n",
       "      <td>5</td>\n",
       "    </tr>\n",
       "    <tr>\n",
       "      <th>1</th>\n",
       "      <td>7.8</td>\n",
       "      <td>0.880</td>\n",
       "      <td>0.00</td>\n",
       "      <td>2.6</td>\n",
       "      <td>0.098</td>\n",
       "      <td>25.0</td>\n",
       "      <td>67.0</td>\n",
       "      <td>0.99680</td>\n",
       "      <td>3.20</td>\n",
       "      <td>0.68</td>\n",
       "      <td>9.8</td>\n",
       "      <td>5</td>\n",
       "    </tr>\n",
       "    <tr>\n",
       "      <th>2</th>\n",
       "      <td>7.8</td>\n",
       "      <td>0.760</td>\n",
       "      <td>0.04</td>\n",
       "      <td>2.3</td>\n",
       "      <td>0.092</td>\n",
       "      <td>15.0</td>\n",
       "      <td>54.0</td>\n",
       "      <td>0.99700</td>\n",
       "      <td>3.26</td>\n",
       "      <td>0.65</td>\n",
       "      <td>9.8</td>\n",
       "      <td>5</td>\n",
       "    </tr>\n",
       "    <tr>\n",
       "      <th>3</th>\n",
       "      <td>11.2</td>\n",
       "      <td>0.280</td>\n",
       "      <td>0.56</td>\n",
       "      <td>1.9</td>\n",
       "      <td>0.075</td>\n",
       "      <td>17.0</td>\n",
       "      <td>60.0</td>\n",
       "      <td>0.99800</td>\n",
       "      <td>3.16</td>\n",
       "      <td>0.58</td>\n",
       "      <td>9.8</td>\n",
       "      <td>6</td>\n",
       "    </tr>\n",
       "    <tr>\n",
       "      <th>4</th>\n",
       "      <td>7.4</td>\n",
       "      <td>0.700</td>\n",
       "      <td>0.00</td>\n",
       "      <td>1.9</td>\n",
       "      <td>0.076</td>\n",
       "      <td>11.0</td>\n",
       "      <td>34.0</td>\n",
       "      <td>0.99780</td>\n",
       "      <td>3.51</td>\n",
       "      <td>0.56</td>\n",
       "      <td>9.4</td>\n",
       "      <td>5</td>\n",
       "    </tr>\n",
       "    <tr>\n",
       "      <th>...</th>\n",
       "      <td>...</td>\n",
       "      <td>...</td>\n",
       "      <td>...</td>\n",
       "      <td>...</td>\n",
       "      <td>...</td>\n",
       "      <td>...</td>\n",
       "      <td>...</td>\n",
       "      <td>...</td>\n",
       "      <td>...</td>\n",
       "      <td>...</td>\n",
       "      <td>...</td>\n",
       "      <td>...</td>\n",
       "    </tr>\n",
       "    <tr>\n",
       "      <th>1594</th>\n",
       "      <td>6.2</td>\n",
       "      <td>0.600</td>\n",
       "      <td>0.08</td>\n",
       "      <td>2.0</td>\n",
       "      <td>0.090</td>\n",
       "      <td>32.0</td>\n",
       "      <td>44.0</td>\n",
       "      <td>0.99490</td>\n",
       "      <td>3.45</td>\n",
       "      <td>0.58</td>\n",
       "      <td>10.5</td>\n",
       "      <td>5</td>\n",
       "    </tr>\n",
       "    <tr>\n",
       "      <th>1595</th>\n",
       "      <td>5.9</td>\n",
       "      <td>0.550</td>\n",
       "      <td>0.10</td>\n",
       "      <td>2.2</td>\n",
       "      <td>0.062</td>\n",
       "      <td>39.0</td>\n",
       "      <td>51.0</td>\n",
       "      <td>0.99512</td>\n",
       "      <td>3.52</td>\n",
       "      <td>0.76</td>\n",
       "      <td>11.2</td>\n",
       "      <td>6</td>\n",
       "    </tr>\n",
       "    <tr>\n",
       "      <th>1596</th>\n",
       "      <td>6.3</td>\n",
       "      <td>0.510</td>\n",
       "      <td>0.13</td>\n",
       "      <td>2.3</td>\n",
       "      <td>0.076</td>\n",
       "      <td>29.0</td>\n",
       "      <td>40.0</td>\n",
       "      <td>0.99574</td>\n",
       "      <td>3.42</td>\n",
       "      <td>0.75</td>\n",
       "      <td>11.0</td>\n",
       "      <td>6</td>\n",
       "    </tr>\n",
       "    <tr>\n",
       "      <th>1597</th>\n",
       "      <td>5.9</td>\n",
       "      <td>0.645</td>\n",
       "      <td>0.12</td>\n",
       "      <td>2.0</td>\n",
       "      <td>0.075</td>\n",
       "      <td>32.0</td>\n",
       "      <td>44.0</td>\n",
       "      <td>0.99547</td>\n",
       "      <td>3.57</td>\n",
       "      <td>0.71</td>\n",
       "      <td>10.2</td>\n",
       "      <td>5</td>\n",
       "    </tr>\n",
       "    <tr>\n",
       "      <th>1598</th>\n",
       "      <td>6.0</td>\n",
       "      <td>0.310</td>\n",
       "      <td>0.47</td>\n",
       "      <td>3.6</td>\n",
       "      <td>0.067</td>\n",
       "      <td>18.0</td>\n",
       "      <td>42.0</td>\n",
       "      <td>0.99549</td>\n",
       "      <td>3.39</td>\n",
       "      <td>0.66</td>\n",
       "      <td>11.0</td>\n",
       "      <td>6</td>\n",
       "    </tr>\n",
       "  </tbody>\n",
       "</table>\n",
       "<p>1599 rows × 12 columns</p>\n",
       "</div>"
      ],
      "text/plain": [
       "      fixed acidity  volatile acidity  citric acid  residual sugar  chlorides  \\\n",
       "0               7.4             0.700         0.00             1.9      0.076   \n",
       "1               7.8             0.880         0.00             2.6      0.098   \n",
       "2               7.8             0.760         0.04             2.3      0.092   \n",
       "3              11.2             0.280         0.56             1.9      0.075   \n",
       "4               7.4             0.700         0.00             1.9      0.076   \n",
       "...             ...               ...          ...             ...        ...   \n",
       "1594            6.2             0.600         0.08             2.0      0.090   \n",
       "1595            5.9             0.550         0.10             2.2      0.062   \n",
       "1596            6.3             0.510         0.13             2.3      0.076   \n",
       "1597            5.9             0.645         0.12             2.0      0.075   \n",
       "1598            6.0             0.310         0.47             3.6      0.067   \n",
       "\n",
       "      free sulfur dioxide  total sulfur dioxide  density    pH  sulphates  \\\n",
       "0                    11.0                  34.0  0.99780  3.51       0.56   \n",
       "1                    25.0                  67.0  0.99680  3.20       0.68   \n",
       "2                    15.0                  54.0  0.99700  3.26       0.65   \n",
       "3                    17.0                  60.0  0.99800  3.16       0.58   \n",
       "4                    11.0                  34.0  0.99780  3.51       0.56   \n",
       "...                   ...                   ...      ...   ...        ...   \n",
       "1594                 32.0                  44.0  0.99490  3.45       0.58   \n",
       "1595                 39.0                  51.0  0.99512  3.52       0.76   \n",
       "1596                 29.0                  40.0  0.99574  3.42       0.75   \n",
       "1597                 32.0                  44.0  0.99547  3.57       0.71   \n",
       "1598                 18.0                  42.0  0.99549  3.39       0.66   \n",
       "\n",
       "      alcohol  quality  \n",
       "0         9.4        5  \n",
       "1         9.8        5  \n",
       "2         9.8        5  \n",
       "3         9.8        6  \n",
       "4         9.4        5  \n",
       "...       ...      ...  \n",
       "1594     10.5        5  \n",
       "1595     11.2        6  \n",
       "1596     11.0        6  \n",
       "1597     10.2        5  \n",
       "1598     11.0        6  \n",
       "\n",
       "[1599 rows x 12 columns]"
      ]
     },
     "execution_count": 3,
     "metadata": {},
     "output_type": "execute_result"
    }
   ],
   "source": [
    "wine_data=pd.read_csv(\"winequality.csv\",sep=\",\")\n",
    "wine_data"
   ]
  },
  {
   "cell_type": "code",
   "execution_count": 4,
   "metadata": {},
   "outputs": [
    {
     "data": {
      "text/plain": [
       "quality\n",
       "5    681\n",
       "6    638\n",
       "7    199\n",
       "4     53\n",
       "8     18\n",
       "3     10\n",
       "Name: count, dtype: int64"
      ]
     },
     "execution_count": 4,
     "metadata": {},
     "output_type": "execute_result"
    }
   ],
   "source": [
    "wine_data[\"quality\"].value_counts()"
   ]
  },
  {
   "cell_type": "code",
   "execution_count": 5,
   "metadata": {},
   "outputs": [
    {
     "name": "stdout",
     "output_type": "stream",
     "text": [
      "<class 'pandas.core.frame.DataFrame'>\n",
      "RangeIndex: 1599 entries, 0 to 1598\n",
      "Data columns (total 12 columns):\n",
      " #   Column                Non-Null Count  Dtype  \n",
      "---  ------                --------------  -----  \n",
      " 0   fixed acidity         1599 non-null   float64\n",
      " 1   volatile acidity      1599 non-null   float64\n",
      " 2   citric acid           1599 non-null   float64\n",
      " 3   residual sugar        1599 non-null   float64\n",
      " 4   chlorides             1599 non-null   float64\n",
      " 5   free sulfur dioxide   1599 non-null   float64\n",
      " 6   total sulfur dioxide  1599 non-null   float64\n",
      " 7   density               1599 non-null   float64\n",
      " 8   pH                    1599 non-null   float64\n",
      " 9   sulphates             1599 non-null   float64\n",
      " 10  alcohol               1599 non-null   float64\n",
      " 11  quality               1599 non-null   int64  \n",
      "dtypes: float64(11), int64(1)\n",
      "memory usage: 150.0 KB\n"
     ]
    }
   ],
   "source": [
    "wine_data.info()"
   ]
  },
  {
   "cell_type": "code",
   "execution_count": 6,
   "metadata": {},
   "outputs": [
    {
     "data": {
      "text/html": [
       "<div>\n",
       "<style scoped>\n",
       "    .dataframe tbody tr th:only-of-type {\n",
       "        vertical-align: middle;\n",
       "    }\n",
       "\n",
       "    .dataframe tbody tr th {\n",
       "        vertical-align: top;\n",
       "    }\n",
       "\n",
       "    .dataframe thead th {\n",
       "        text-align: right;\n",
       "    }\n",
       "</style>\n",
       "<table border=\"1\" class=\"dataframe\">\n",
       "  <thead>\n",
       "    <tr style=\"text-align: right;\">\n",
       "      <th></th>\n",
       "      <th>fixed acidity</th>\n",
       "      <th>volatile acidity</th>\n",
       "      <th>citric acid</th>\n",
       "      <th>residual sugar</th>\n",
       "      <th>chlorides</th>\n",
       "      <th>free sulfur dioxide</th>\n",
       "      <th>total sulfur dioxide</th>\n",
       "      <th>density</th>\n",
       "      <th>pH</th>\n",
       "      <th>sulphates</th>\n",
       "      <th>alcohol</th>\n",
       "      <th>quality</th>\n",
       "    </tr>\n",
       "  </thead>\n",
       "  <tbody>\n",
       "    <tr>\n",
       "      <th>count</th>\n",
       "      <td>1599.000000</td>\n",
       "      <td>1599.000000</td>\n",
       "      <td>1599.000000</td>\n",
       "      <td>1599.000000</td>\n",
       "      <td>1599.000000</td>\n",
       "      <td>1599.000000</td>\n",
       "      <td>1599.000000</td>\n",
       "      <td>1599.000000</td>\n",
       "      <td>1599.000000</td>\n",
       "      <td>1599.000000</td>\n",
       "      <td>1599.000000</td>\n",
       "      <td>1599.000000</td>\n",
       "    </tr>\n",
       "    <tr>\n",
       "      <th>mean</th>\n",
       "      <td>8.319637</td>\n",
       "      <td>0.527821</td>\n",
       "      <td>0.270976</td>\n",
       "      <td>2.538806</td>\n",
       "      <td>0.087467</td>\n",
       "      <td>15.874922</td>\n",
       "      <td>46.467792</td>\n",
       "      <td>0.996747</td>\n",
       "      <td>3.311113</td>\n",
       "      <td>0.658149</td>\n",
       "      <td>10.422983</td>\n",
       "      <td>5.636023</td>\n",
       "    </tr>\n",
       "    <tr>\n",
       "      <th>std</th>\n",
       "      <td>1.741096</td>\n",
       "      <td>0.179060</td>\n",
       "      <td>0.194801</td>\n",
       "      <td>1.409928</td>\n",
       "      <td>0.047065</td>\n",
       "      <td>10.460157</td>\n",
       "      <td>32.895324</td>\n",
       "      <td>0.001887</td>\n",
       "      <td>0.154386</td>\n",
       "      <td>0.169507</td>\n",
       "      <td>1.065668</td>\n",
       "      <td>0.807569</td>\n",
       "    </tr>\n",
       "    <tr>\n",
       "      <th>min</th>\n",
       "      <td>4.600000</td>\n",
       "      <td>0.120000</td>\n",
       "      <td>0.000000</td>\n",
       "      <td>0.900000</td>\n",
       "      <td>0.012000</td>\n",
       "      <td>1.000000</td>\n",
       "      <td>6.000000</td>\n",
       "      <td>0.990070</td>\n",
       "      <td>2.740000</td>\n",
       "      <td>0.330000</td>\n",
       "      <td>8.400000</td>\n",
       "      <td>3.000000</td>\n",
       "    </tr>\n",
       "    <tr>\n",
       "      <th>25%</th>\n",
       "      <td>7.100000</td>\n",
       "      <td>0.390000</td>\n",
       "      <td>0.090000</td>\n",
       "      <td>1.900000</td>\n",
       "      <td>0.070000</td>\n",
       "      <td>7.000000</td>\n",
       "      <td>22.000000</td>\n",
       "      <td>0.995600</td>\n",
       "      <td>3.210000</td>\n",
       "      <td>0.550000</td>\n",
       "      <td>9.500000</td>\n",
       "      <td>5.000000</td>\n",
       "    </tr>\n",
       "    <tr>\n",
       "      <th>50%</th>\n",
       "      <td>7.900000</td>\n",
       "      <td>0.520000</td>\n",
       "      <td>0.260000</td>\n",
       "      <td>2.200000</td>\n",
       "      <td>0.079000</td>\n",
       "      <td>14.000000</td>\n",
       "      <td>38.000000</td>\n",
       "      <td>0.996750</td>\n",
       "      <td>3.310000</td>\n",
       "      <td>0.620000</td>\n",
       "      <td>10.200000</td>\n",
       "      <td>6.000000</td>\n",
       "    </tr>\n",
       "    <tr>\n",
       "      <th>75%</th>\n",
       "      <td>9.200000</td>\n",
       "      <td>0.640000</td>\n",
       "      <td>0.420000</td>\n",
       "      <td>2.600000</td>\n",
       "      <td>0.090000</td>\n",
       "      <td>21.000000</td>\n",
       "      <td>62.000000</td>\n",
       "      <td>0.997835</td>\n",
       "      <td>3.400000</td>\n",
       "      <td>0.730000</td>\n",
       "      <td>11.100000</td>\n",
       "      <td>6.000000</td>\n",
       "    </tr>\n",
       "    <tr>\n",
       "      <th>max</th>\n",
       "      <td>15.900000</td>\n",
       "      <td>1.580000</td>\n",
       "      <td>1.000000</td>\n",
       "      <td>15.500000</td>\n",
       "      <td>0.611000</td>\n",
       "      <td>72.000000</td>\n",
       "      <td>289.000000</td>\n",
       "      <td>1.003690</td>\n",
       "      <td>4.010000</td>\n",
       "      <td>2.000000</td>\n",
       "      <td>14.900000</td>\n",
       "      <td>8.000000</td>\n",
       "    </tr>\n",
       "  </tbody>\n",
       "</table>\n",
       "</div>"
      ],
      "text/plain": [
       "       fixed acidity  volatile acidity  citric acid  residual sugar  \\\n",
       "count    1599.000000       1599.000000  1599.000000     1599.000000   \n",
       "mean        8.319637          0.527821     0.270976        2.538806   \n",
       "std         1.741096          0.179060     0.194801        1.409928   \n",
       "min         4.600000          0.120000     0.000000        0.900000   \n",
       "25%         7.100000          0.390000     0.090000        1.900000   \n",
       "50%         7.900000          0.520000     0.260000        2.200000   \n",
       "75%         9.200000          0.640000     0.420000        2.600000   \n",
       "max        15.900000          1.580000     1.000000       15.500000   \n",
       "\n",
       "         chlorides  free sulfur dioxide  total sulfur dioxide      density  \\\n",
       "count  1599.000000          1599.000000           1599.000000  1599.000000   \n",
       "mean      0.087467            15.874922             46.467792     0.996747   \n",
       "std       0.047065            10.460157             32.895324     0.001887   \n",
       "min       0.012000             1.000000              6.000000     0.990070   \n",
       "25%       0.070000             7.000000             22.000000     0.995600   \n",
       "50%       0.079000            14.000000             38.000000     0.996750   \n",
       "75%       0.090000            21.000000             62.000000     0.997835   \n",
       "max       0.611000            72.000000            289.000000     1.003690   \n",
       "\n",
       "                pH    sulphates      alcohol      quality  \n",
       "count  1599.000000  1599.000000  1599.000000  1599.000000  \n",
       "mean      3.311113     0.658149    10.422983     5.636023  \n",
       "std       0.154386     0.169507     1.065668     0.807569  \n",
       "min       2.740000     0.330000     8.400000     3.000000  \n",
       "25%       3.210000     0.550000     9.500000     5.000000  \n",
       "50%       3.310000     0.620000    10.200000     6.000000  \n",
       "75%       3.400000     0.730000    11.100000     6.000000  \n",
       "max       4.010000     2.000000    14.900000     8.000000  "
      ]
     },
     "execution_count": 6,
     "metadata": {},
     "output_type": "execute_result"
    }
   ],
   "source": [
    "wine_data.describe()"
   ]
  },
  {
   "cell_type": "markdown",
   "metadata": {},
   "source": [
    "# mean for each class in quality columns"
   ]
  },
  {
   "cell_type": "code",
   "execution_count": 7,
   "metadata": {},
   "outputs": [
    {
     "data": {
      "text/plain": [
       "array([[-0.52835961,  0.96187667, -1.39147228, ...,  1.28864292,\n",
       "        -0.57920652, -0.96024611],\n",
       "       [-0.29854743,  1.96744245, -1.39147228, ..., -0.7199333 ,\n",
       "         0.1289504 , -0.58477711],\n",
       "       [-0.29854743,  1.29706527, -1.18607043, ..., -0.33117661,\n",
       "        -0.04808883, -0.58477711],\n",
       "       ...,\n",
       "       [-1.1603431 , -0.09955388, -0.72391627, ...,  0.70550789,\n",
       "         0.54204194,  0.54162988],\n",
       "       [-1.39015528,  0.65462046, -0.77526673, ...,  1.6773996 ,\n",
       "         0.30598963, -0.20930812],\n",
       "       [-1.33270223, -1.21684919,  1.02199944, ...,  0.51112954,\n",
       "         0.01092425,  0.54162988]])"
      ]
     },
     "execution_count": 7,
     "metadata": {},
     "output_type": "execute_result"
    }
   ],
   "source": [
    "scaler=StandardScaler()\n",
    "x=wine_data.drop([\"quality\"],axis=1)\n",
    "y_t=wine_data[\"quality\"]\n",
    "x_std=scaler.fit_transform(x)\n",
    "x_std"
   ]
  },
  {
   "cell_type": "code",
   "execution_count": 8,
   "metadata": {},
   "outputs": [
    {
     "data": {
      "text/plain": [
       "pandas.core.series.Series"
      ]
     },
     "execution_count": 8,
     "metadata": {},
     "output_type": "execute_result"
    }
   ],
   "source": [
    "type(y_t)"
   ]
  },
  {
   "cell_type": "code",
   "execution_count": 9,
   "metadata": {},
   "outputs": [
    {
     "data": {
      "text/plain": [
       "array([[-0.52835961,  0.96187667, -1.39147228, ...,  1.28864292,\n",
       "        -0.57920652, -0.96024611],\n",
       "       [-0.29854743,  1.96744245, -1.39147228, ..., -0.7199333 ,\n",
       "         0.1289504 , -0.58477711],\n",
       "       [-0.29854743,  1.29706527, -1.18607043, ..., -0.33117661,\n",
       "        -0.04808883, -0.58477711],\n",
       "       ...,\n",
       "       [-1.1603431 , -0.09955388, -0.72391627, ...,  0.70550789,\n",
       "         0.54204194,  0.54162988],\n",
       "       [-1.39015528,  0.65462046, -0.77526673, ...,  1.6773996 ,\n",
       "         0.30598963, -0.20930812],\n",
       "       [-1.33270223, -1.21684919,  1.02199944, ...,  0.51112954,\n",
       "         0.01092425,  0.54162988]])"
      ]
     },
     "execution_count": 9,
     "metadata": {},
     "output_type": "execute_result"
    }
   ],
   "source": [
    "x=wine_data.iloc[:,0:11].values\n",
    "y=wine_data.iloc[:,11].values\n",
    "x_std=scaler.fit_transform(x)\n",
    "x_std"
   ]
  },
  {
   "cell_type": "code",
   "execution_count": 10,
   "metadata": {},
   "outputs": [
    {
     "data": {
      "text/plain": [
       "numpy.ndarray"
      ]
     },
     "execution_count": 10,
     "metadata": {},
     "output_type": "execute_result"
    }
   ],
   "source": [
    "type(y)"
   ]
  },
  {
   "cell_type": "code",
   "execution_count": 11,
   "metadata": {},
   "outputs": [
    {
     "name": "stdout",
     "output_type": "stream",
     "text": [
      "Mean vector quality 3 :[ 0.   2.  -0.5  0.1  0.7 -0.5 -0.7  0.4  0.6 -0.5 -0.4]\n",
      "\n",
      "-----------------------------------------------------------------\n",
      "Mean vector quality 4 :[-0.3  0.9 -0.5  0.1  0.1 -0.3 -0.3 -0.1  0.5 -0.4 -0.1]\n",
      "\n",
      "-----------------------------------------------------------------\n",
      "Mean vector quality 5 :[-0.1  0.3 -0.1 -0.   0.1  0.1  0.3  0.2 -0.  -0.2 -0.5]\n",
      "\n",
      "-----------------------------------------------------------------\n",
      "Mean vector quality 6 :[ 0.  -0.2  0.  -0.  -0.1 -0.  -0.2 -0.1  0.   0.1  0.2]\n",
      "\n",
      "-----------------------------------------------------------------\n",
      "Mean vector quality 7 :[ 0.3 -0.7  0.5  0.1 -0.2 -0.2 -0.3 -0.3 -0.1  0.5  1. ]\n",
      "\n",
      "-----------------------------------------------------------------\n",
      "Mean vector quality 8 :[ 0.1 -0.6  0.6  0.  -0.4 -0.2 -0.4 -0.8 -0.3  0.6  1.6]\n",
      "\n",
      "-----------------------------------------------------------------\n",
      "[array([ 0. ,  2. , -0.5,  0.1,  0.7, -0.5, -0.7,  0.4,  0.6, -0.5, -0.4]), array([-0.3,  0.9, -0.5,  0.1,  0.1, -0.3, -0.3, -0.1,  0.5, -0.4, -0.1]), array([-0.1,  0.3, -0.1, -0. ,  0.1,  0.1,  0.3,  0.2, -0. , -0.2, -0.5]), array([ 0. , -0.2,  0. , -0. , -0.1, -0. , -0.2, -0.1,  0. ,  0.1,  0.2]), array([ 0.3, -0.7,  0.5,  0.1, -0.2, -0.2, -0.3, -0.3, -0.1,  0.5,  1. ]), array([ 0.1, -0.6,  0.6,  0. , -0.4, -0.2, -0.4, -0.8, -0.3,  0.6,  1.6])]\n"
     ]
    }
   ],
   "source": [
    "np.set_printoptions(precision=1) # to specify number of float number of decimal point  \n",
    "mean_vectors=[]\n",
    "for grade_qualities in range(3,9):\n",
    "    mean_vectors.append(np.mean(x_std[y==grade_qualities],axis=0))\n",
    "    print('Mean vector quality %s :%s\\n'%(grade_qualities,mean_vectors[grade_qualities-3]))\n",
    "    print(\"-----------------------------------------------------------------\")\n",
    "print(mean_vectors)"
   ]
  },
  {
   "cell_type": "markdown",
   "metadata": {},
   "source": [
    "# calculate the within_class_matrix \n",
    "* calculate the covariance matrix for each sperate quality grade\n",
    "* sum these individual class covariance matrics up "
   ]
  },
  {
   "cell_type": "markdown",
   "metadata": {},
   "source": [
    "دلوقتي انا عندي 6 كلاسز , روحت كاني فصلتهم ل ماتركس تانية فيها صفوف الي فيها الكواليتي دي بس وبدأت احسب متوسط كل فيتشر , فانا مستني فيكتور للمتوسط فيه 11 قيمة لكل كواليتي \n",
    "\n",
    "طب وكم فيكتور للمتوسط 6 علي حسب عدد الكواليتي \n",
    "\n",
    "ودلوقتي عشان احسب كوفيرنس لكل كواليتي محتاجة اخد كل نقطةبعد ما كانت صف احولها لعمود واطرحها من فيكتور المتوسط وبعدين اخد نفس الفيكتور اعمله ترانسبوز واضربهم في بعض ,وفي الاخر اجمع مصفوفة كل كلاس مع التاني "
   ]
  },
  {
   "cell_type": "markdown",
   "metadata": {},
   "source": [
    "![alt text](<WhatsApp Image 2024-11-14 at 22.05.15_b0edb6f5.jpg>)"
   ]
  },
  {
   "cell_type": "code",
   "execution_count": 12,
   "metadata": {},
   "outputs": [
    {
     "data": {
      "text/plain": [
       "array([[ 5430770.5,  -998629.6,  3654716.1,   802338.8,   458762.7,\n",
       "         -572158. ,  -600833.6,  3629371.6, -3188428.8,  1200560.3,\n",
       "          286773.1],\n",
       "       [ -998629.6,  4771423.3, -2350002.5,   192014.1,   275160.4,\n",
       "          229535.3,   680734.2,   151051.8,  1157584. ,  -895152.2,\n",
       "         -514371. ],\n",
       "       [ 3654716.1, -2350002.5,  5249686.9,   662997.3,  1246539.9,\n",
       "          -95226.3,   348703.9,  2087553.5, -2427212.1,  1698520.2,\n",
       "          742079.6],\n",
       "       [  802338.8,   192014.1,   662997.3,  4419560. ,   107413.5,\n",
       "         1037918.6,  1069319.4,  1830093.5,   -54707.3,   236710.2,\n",
       "          563477.8],\n",
       "       [  458762.7,   275160.4,  1246539.9,   107413.5,  6168012.3,\n",
       "          161644. ,   504348.4,   906034.1, -1221336. ,  2660858.9,\n",
       "         -775758.3],\n",
       "       [ -572158. ,   229535.3,   -95226.3,  1037918.6,   161644. ,\n",
       "         4901169.2,  3650100.2,   -39045.6,   611229.5,   462856.7,\n",
       "          159075.2],\n",
       "       [ -600833.6,   680734.2,   348703.9,  1069319.4,   504348.4,\n",
       "         3650100.2,  5616227.6,   341797.8,   -58191.3,   699170.8,\n",
       "         -737974.4],\n",
       "       [ 3629371.6,   151051.8,  2087553.5,  1830093.5,   906034.1,\n",
       "          -39045.6,   341797.8,  4917420.8, -1403611. ,  1100596.8,\n",
       "        -1647554.5],\n",
       "       [-3188428.8,  1157584. , -2427212.1,   -54707.3, -1221336. ,\n",
       "          611229.5,   -58191.3, -1403611. ,  5167687.4, -1185225.9,\n",
       "          977545.5],\n",
       "       [ 1200560.3,  -895152.2,  1698520.2,   236710.2,  2660858.9,\n",
       "          462856.7,   699170.8,  1100596.8, -1185225.9,  6238240.2,\n",
       "          355815.3],\n",
       "       [  286773.1,  -514371. ,   742079.6,   563477.8,  -775758.3,\n",
       "          159075.2,  -737974.4, -1647554.5,   977545.5,   355815.3,\n",
       "         4737707.7]])"
      ]
     },
     "execution_count": 12,
     "metadata": {},
     "output_type": "execute_result"
    }
   ],
   "source": [
    "with_in_matrix=np.zeros((11,11))\n",
    "for quality_class_label, corresponding_mean_vector in zip(range(3,9),mean_vectors) :\n",
    "    class_scatter_for_each_class=np.zeros((11,11))\n",
    "    for row_index in range(len(x_std)):\n",
    "        if y[row_index]==quality_class_label:\n",
    "            row_vector_to_coloumn_vector=x_std[row_index].reshape(11,1)\n",
    "            row_vector_to_coloumn_vector_transposed=row_vector_to_coloumn_vector.T\n",
    "            class_scatter_for_each_class+=(row_vector_to_coloumn_vector-corresponding_mean_vector).dot((row_vector_to_coloumn_vector-corresponding_mean_vector).T)\n",
    "            with_in_matrix+=class_scatter_for_each_class\n",
    "with_in_matrix"
   ]
  },
  {
   "cell_type": "markdown",
   "metadata": {},
   "source": [
    "# calculate the between class matrix "
   ]
  },
  {
   "cell_type": "markdown",
   "metadata": {},
   "source": [
    "* The between-class scatter matrix measures the separation between different\n",
    "* 𝑐 :is the number of classes.\n",
    "* 𝑁𝑖 : is the number of samples in class 𝑖\n",
    "* 𝜇𝑖 : is the mean vector of class 𝑖\n",
    "* 𝜇 : is the overall mean vector of all classe\n",
    "\n",
    "![alt text](image.png)\n"
   ]
  },
  {
   "cell_type": "code",
   "execution_count": 13,
   "metadata": {},
   "outputs": [
    {
     "data": {
      "text/plain": [
       "array([[  30.9,  -78.1,   52. ,    6.4,  -23.8,  -12.6,  -38. ,  -33.7,\n",
       "         -13.6,   52.6,   99.5],\n",
       "       [ -78.1,  256.6, -142.7,   -7.9,   81. ,   22. ,   99.4,  100.7,\n",
       "          42.5, -154.7, -280.3],\n",
       "       [  52. , -142.7,   93.1,   11. ,  -45.9,  -20.2,  -60.6,  -63.1,\n",
       "         -27.9,   93.6,  176.5],\n",
       "       [   6.4,   -7.9,   11. ,    5.3,   -4.3,   -7. ,   -8.1,   -8.5,\n",
       "          -1.5,    8.7,   21.7],\n",
       "       [ -23.8,   81. ,  -45.9,   -4.3,   29.7,   13.8,   42. ,   40.8,\n",
       "           9.4,  -52.6, -104.3],\n",
       "       [ -12.6,   22. ,  -20.2,   -7. ,   13.8,   23.5,   46.4,   30.1,\n",
       "          -8.4,  -27.7,  -73.7],\n",
       "       [ -38. ,   99.4,  -60.6,   -8.1,   42. ,   46.4,  118.4,   75.6,\n",
       "         -13.2,  -85.8, -196.9],\n",
       "       [ -33.7,  100.7,  -63.1,   -8.5,   40.8,   30.1,   75.6,   64.5,\n",
       "           5.5,  -75.4, -162. ],\n",
       "       [ -13.6,   42.5,  -27.9,   -1.5,    9.4,   -8.4,  -13.2,    5.5,\n",
       "          21.5,  -19. ,  -20.8],\n",
       "       [  52.6, -154.7,   93.6,    8.7,  -52.6,  -27.7,  -85.8,  -75.4,\n",
       "         -19. ,  104.5,  204.9],\n",
       "       [  99.5, -280.3,  176.5,   21.7, -104.3,  -73.7, -196.9, -162. ,\n",
       "         -20.8,  204.9,  426.4]])"
      ]
     },
     "execution_count": 13,
     "metadata": {},
     "output_type": "execute_result"
    }
   ],
   "source": [
    "over_all_mean_vector_of_all_classes=np.mean(x_std,axis=0)\n",
    "between_matrix_for_all_classes=np.zeros((11,11))\n",
    "for i ,mean_vec in enumerate(mean_vectors):\n",
    "    number_of_sampels=x_std[y==i+3,:].shape[0]\n",
    "    \n",
    "    mean_vec=mean_vec.reshape(11,1)\n",
    "    over_all_mean_vector_of_all_classes=over_all_mean_vector_of_all_classes.reshape(11,1)\n",
    "    between_matrix_for_all_classes+=number_of_sampels*(mean_vec-over_all_mean_vector_of_all_classes).dot((mean_vec-over_all_mean_vector_of_all_classes).T)\n",
    "\n",
    "between_matrix_for_all_classes"
   ]
  },
  {
   "cell_type": "code",
   "execution_count": null,
   "metadata": {},
   "outputs": [
    {
     "data": {
      "text/plain": [
       "array([[  30.9,  -78.1,   52. ,    6.4,  -23.8,  -12.6,  -38. ,  -33.7,\n",
       "         -13.6,   52.6,   99.5],\n",
       "       [ -78.1,  256.6, -142.7,   -7.9,   81. ,   22. ,   99.4,  100.7,\n",
       "          42.5, -154.7, -280.3],\n",
       "       [  52. , -142.7,   93.1,   11. ,  -45.9,  -20.2,  -60.6,  -63.1,\n",
       "         -27.9,   93.6,  176.5],\n",
       "       [   6.4,   -7.9,   11. ,    5.3,   -4.3,   -7. ,   -8.1,   -8.5,\n",
       "          -1.5,    8.7,   21.7],\n",
       "       [ -23.8,   81. ,  -45.9,   -4.3,   29.7,   13.8,   42. ,   40.8,\n",
       "           9.4,  -52.6, -104.3],\n",
       "       [ -12.6,   22. ,  -20.2,   -7. ,   13.8,   23.5,   46.4,   30.1,\n",
       "          -8.4,  -27.7,  -73.7],\n",
       "       [ -38. ,   99.4,  -60.6,   -8.1,   42. ,   46.4,  118.4,   75.6,\n",
       "         -13.2,  -85.8, -196.9],\n",
       "       [ -33.7,  100.7,  -63.1,   -8.5,   40.8,   30.1,   75.6,   64.5,\n",
       "           5.5,  -75.4, -162. ],\n",
       "       [ -13.6,   42.5,  -27.9,   -1.5,    9.4,   -8.4,  -13.2,    5.5,\n",
       "          21.5,  -19. ,  -20.8],\n",
       "       [  52.6, -154.7,   93.6,    8.7,  -52.6,  -27.7,  -85.8,  -75.4,\n",
       "         -19. ,  104.5,  204.9],\n",
       "       [  99.5, -280.3,  176.5,   21.7, -104.3,  -73.7, -196.9, -162. ,\n",
       "         -20.8,  204.9,  426.4]])"
      ]
     },
     "execution_count": 14,
     "metadata": {},
     "output_type": "execute_result"
    }
   ],
   "source": [
    "over_all_mean=np.mean(x_std,axis=0)\n",
    "# Compute between-class scatter matrix S_b\n",
    "between_class_scatter=np.zeros((11,11))\n",
    "for labels ,mean_vector in zip(range(3,9),mean_vectors):\n",
    " between_matrix_for_each_class=np.zeros((11,11))\n",
    " sub_matrix_class= x_std[y==labels]\n",
    " number_of_sampels=sub_matrix_class.shape[0]\n",
    " frist=mean_vector.reshape(11,1)-over_all_mean.reshape(11,1)\n",
    " between_matrix_for_each_class+=number_of_sampels*(frist).dot(frist.T)\n",
    " between_class_scatter+=between_matrix_for_each_class\n",
    "\n",
    "between_class_scatter\n"
   ]
  },
  {
   "cell_type": "markdown",
   "metadata": {},
   "source": [
    "# Eigen values and vectors "
   ]
  },
  {
   "cell_type": "code",
   "execution_count": 15,
   "metadata": {},
   "outputs": [],
   "source": [
    "eig_values,eigen_vec=np.linalg.eig(np.linalg.inv(with_in_matrix).dot(between_matrix_for_all_classes))"
   ]
  },
  {
   "cell_type": "code",
   "execution_count": 16,
   "metadata": {},
   "outputs": [
    {
     "data": {
      "text/plain": [
       "array([ 1.4e-04+0.0e+00j,  2.2e-05+0.0e+00j,  7.8e-06+0.0e+00j,\n",
       "        1.9e-06+0.0e+00j,  1.1e-06+0.0e+00j,  8.1e-21+0.0e+00j,\n",
       "        3.6e-20+0.0e+00j, -2.0e-21+4.4e-21j, -2.0e-21-4.4e-21j,\n",
       "       -4.1e-21+0.0e+00j, -7.8e-21+0.0e+00j])"
      ]
     },
     "execution_count": 16,
     "metadata": {},
     "output_type": "execute_result"
    }
   ],
   "source": [
    "eig_values"
   ]
  },
  {
   "cell_type": "code",
   "execution_count": 17,
   "metadata": {},
   "outputs": [
    {
     "data": {
      "text/plain": [
       "array([[ 1.4e-01+0.j , -4.0e-01+0.j ,  1.6e-01+0.j ,  6.6e-01+0.j ,\n",
       "        -2.4e-02+0.j , -3.5e-01+0.j , -2.1e-01+0.j , -2.5e-01+0.2j,\n",
       "        -2.5e-01-0.2j, -4.9e-01+0.j , -6.0e-01+0.j ],\n",
       "       [-4.4e-01+0.j , -4.9e-01+0.j ,  2.3e-01+0.j , -1.8e-01+0.j ,\n",
       "         2.9e-01+0.j ,  9.0e-02+0.j , -1.3e-01+0.j , -6.5e-02-0.1j,\n",
       "        -6.5e-02+0.1j, -2.8e-01+0.j ,  5.1e-02+0.j ],\n",
       "       [-5.7e-03+0.j , -1.7e-01+0.j ,  3.6e-01+0.j , -1.2e-01+0.j ,\n",
       "         4.2e-01+0.j , -1.8e-02+0.j , -2.2e-01+0.j ,  2.1e-01-0.4j,\n",
       "         2.1e-01+0.4j,  2.5e-02+0.j ,  7.3e-02+0.j ],\n",
       "       [ 1.1e-01+0.j , -2.6e-01+0.j ,  3.0e-01+0.j ,  2.3e-01+0.j ,\n",
       "        -3.8e-01+0.j ,  1.8e-01+0.j , -1.6e-01+0.j , -3.5e-01+0.2j,\n",
       "        -3.5e-01-0.2j,  2.0e-01+0.j ,  1.5e-01+0.j ],\n",
       "       [-2.0e-01+0.j , -6.2e-02+0.j , -1.0e-01+0.j ,  1.1e-01+0.j ,\n",
       "         2.5e-01+0.j , -3.7e-01+0.j ,  1.0e-01+0.j , -7.7e-02+0.3j,\n",
       "        -7.7e-02-0.3j,  7.4e-01+0.j ,  9.7e-03+0.j ],\n",
       "       [-1.3e-02+0.j ,  6.6e-02+0.j , -4.2e-01+0.j , -1.0e-01+0.j ,\n",
       "         4.4e-01+0.j , -1.5e-01+0.j , -3.8e-01+0.j , -5.6e-01+0.j ,\n",
       "        -5.6e-01-0.j , -2.2e-01+0.j , -2.3e-01+0.j ],\n",
       "       [-2.1e-01+0.j ,  2.8e-01+0.j ,  4.8e-01+0.j ,  8.9e-02+0.j ,\n",
       "        -2.6e-01+0.j , -3.7e-01+0.j ,  2.8e-01+0.j ,  1.3e-02+0.1j,\n",
       "         1.3e-02-0.1j, -3.8e-02+0.j ,  3.5e-02+0.j ],\n",
       "       [-2.8e-01+0.j ,  5.3e-01+0.j , -5.2e-01+0.j , -4.1e-01+0.j ,\n",
       "         3.9e-01+0.j ,  3.9e-01+0.j ,  5.9e-01+0.j ,  2.4e-01-0.2j,\n",
       "         2.4e-01+0.2j, -1.3e-01+0.j ,  4.8e-01+0.j ],\n",
       "       [-4.7e-02+0.j , -3.2e-01+0.j , -8.9e-02+0.j ,  4.0e-01+0.j ,\n",
       "        -2.2e-01+0.j , -5.6e-01+0.j , -8.5e-02+0.j , -1.0e-01-0.2j,\n",
       "        -1.0e-01+0.2j, -1.4e-01+0.j , -4.8e-02+0.j ],\n",
       "       [ 3.7e-01+0.j , -7.1e-02+0.j ,  1.8e-03+0.j ,  2.2e-04+0.j ,\n",
       "        -8.9e-02+0.j ,  2.3e-01+0.j , -2.3e-01+0.j , -5.9e-03-0.j ,\n",
       "        -5.9e-03+0.j , -4.5e-02+0.j ,  5.7e-01+0.j ],\n",
       "       [ 6.9e-01+0.j ,  1.6e-01+0.j , -1.3e-01+0.j , -3.2e-01+0.j ,\n",
       "         2.5e-01+0.j , -1.3e-01+0.j ,  4.8e-01+0.j , -7.4e-02+0.1j,\n",
       "        -7.4e-02-0.1j, -1.2e-03+0.j ,  2.3e-02+0.j ]])"
      ]
     },
     "execution_count": 17,
     "metadata": {},
     "output_type": "execute_result"
    }
   ],
   "source": [
    "eigen_vec\n",
    "# number of eigen vector == number of dimension \n"
   ]
  },
  {
   "cell_type": "code",
   "execution_count": 18,
   "metadata": {},
   "outputs": [
    {
     "name": "stdout",
     "output_type": "stream",
     "text": [
      "Eigen_vector1 is [[ 0.1]\n",
      " [-0.4]\n",
      " [-0. ]\n",
      " [ 0.1]\n",
      " [-0.2]\n",
      " [-0. ]\n",
      " [-0.2]\n",
      " [-0.3]\n",
      " [-0. ]\n",
      " [ 0.4]\n",
      " [ 0.7]]\n",
      "\n",
      "Eigen_value 1 is 0.00013905032011075547\n",
      "\n",
      "--------------------------\n",
      "Eigen_vector2 is [[-0.4]\n",
      " [-0.5]\n",
      " [-0.2]\n",
      " [-0.3]\n",
      " [-0.1]\n",
      " [ 0.1]\n",
      " [ 0.3]\n",
      " [ 0.5]\n",
      " [-0.3]\n",
      " [-0.1]\n",
      " [ 0.2]]\n",
      "\n",
      "Eigen_value 2 is 2.2451469773107637e-05\n",
      "\n",
      "--------------------------\n",
      "Eigen_vector3 is [[ 0.2]\n",
      " [ 0.2]\n",
      " [ 0.4]\n",
      " [ 0.3]\n",
      " [-0.1]\n",
      " [-0.4]\n",
      " [ 0.5]\n",
      " [-0.5]\n",
      " [-0.1]\n",
      " [ 0. ]\n",
      " [-0.1]]\n",
      "\n",
      "Eigen_value 3 is 7.757501158357632e-06\n",
      "\n",
      "--------------------------\n",
      "Eigen_vector4 is [[ 6.6e-01]\n",
      " [-1.8e-01]\n",
      " [-1.2e-01]\n",
      " [ 2.3e-01]\n",
      " [ 1.1e-01]\n",
      " [-1.0e-01]\n",
      " [ 8.9e-02]\n",
      " [-4.1e-01]\n",
      " [ 4.0e-01]\n",
      " [ 2.2e-04]\n",
      " [-3.2e-01]]\n",
      "\n",
      "Eigen_value 4 is 1.925857250908465e-06\n",
      "\n",
      "--------------------------\n",
      "Eigen_vector5 is [[-0. ]\n",
      " [ 0.3]\n",
      " [ 0.4]\n",
      " [-0.4]\n",
      " [ 0.2]\n",
      " [ 0.4]\n",
      " [-0.3]\n",
      " [ 0.4]\n",
      " [-0.2]\n",
      " [-0.1]\n",
      " [ 0.2]]\n",
      "\n",
      "Eigen_value 5 is 1.1468226884292847e-06\n",
      "\n",
      "--------------------------\n",
      "Eigen_vector6 is [[-0.4]\n",
      " [ 0.1]\n",
      " [-0. ]\n",
      " [ 0.2]\n",
      " [-0.4]\n",
      " [-0.1]\n",
      " [-0.4]\n",
      " [ 0.4]\n",
      " [-0.6]\n",
      " [ 0.2]\n",
      " [-0.1]]\n",
      "\n",
      "Eigen_value 6 is 8.070133749270178e-21\n",
      "\n",
      "--------------------------\n",
      "Eigen_vector7 is [[-0.2]\n",
      " [-0.1]\n",
      " [-0.2]\n",
      " [-0.2]\n",
      " [ 0.1]\n",
      " [-0.4]\n",
      " [ 0.3]\n",
      " [ 0.6]\n",
      " [-0.1]\n",
      " [-0.2]\n",
      " [ 0.5]]\n",
      "\n",
      "Eigen_value 7 is 3.603988639586214e-20\n",
      "\n",
      "--------------------------\n",
      "Eigen_vector8 is [[-0.3]\n",
      " [-0.1]\n",
      " [ 0.2]\n",
      " [-0.4]\n",
      " [-0.1]\n",
      " [-0.6]\n",
      " [ 0. ]\n",
      " [ 0.2]\n",
      " [-0.1]\n",
      " [-0. ]\n",
      " [-0.1]]\n",
      "\n",
      "Eigen_value 8 is -2.0133696866558533e-21\n",
      "\n",
      "--------------------------\n",
      "Eigen_vector9 is [[-0.3]\n",
      " [-0.1]\n",
      " [ 0.2]\n",
      " [-0.4]\n",
      " [-0.1]\n",
      " [-0.6]\n",
      " [ 0. ]\n",
      " [ 0.2]\n",
      " [-0.1]\n",
      " [-0. ]\n",
      " [-0.1]]\n",
      "\n",
      "Eigen_value 9 is -2.0133696866558533e-21\n",
      "\n",
      "--------------------------\n",
      "Eigen_vector10 is [[-0.5]\n",
      " [-0.3]\n",
      " [ 0. ]\n",
      " [ 0.2]\n",
      " [ 0.7]\n",
      " [-0.2]\n",
      " [-0. ]\n",
      " [-0.1]\n",
      " [-0.1]\n",
      " [-0. ]\n",
      " [-0. ]]\n",
      "\n",
      "Eigen_value 10 is -4.140568753402869e-21\n",
      "\n",
      "--------------------------\n",
      "Eigen_vector11 is [[-0.6]\n",
      " [ 0.1]\n",
      " [ 0.1]\n",
      " [ 0.1]\n",
      " [ 0. ]\n",
      " [-0.2]\n",
      " [ 0. ]\n",
      " [ 0.5]\n",
      " [-0. ]\n",
      " [ 0.6]\n",
      " [ 0. ]]\n",
      "\n",
      "Eigen_value 11 is -7.793866497473603e-21\n",
      "\n",
      "--------------------------\n"
     ]
    }
   ],
   "source": [
    "for i in range (len(eig_values)):\n",
    "    #بياخد كل الابجن فيكتور بتاعت الفيتشر الأولانية مثلا وهكذاوالمصفوفة دي عبارة عن صفوف من الفيكتورز\n",
    "    eigen_vector_reshaped=eigen_vec[:,i].reshape(11,1)\n",
    "    print(f\"Eigen_vector{i+1} is {eigen_vector_reshaped.real}\\n\")\n",
    "    print(f\"Eigen_value {i+1} is {eig_values[i].real}\\n\")\n",
    "    print(\"--------------------------\")"
   ]
  },
  {
   "cell_type": "markdown",
   "metadata": {},
   "source": [
    "# Order the eigenpairs in descending order with respect to eigenvalues"
   ]
  },
  {
   "cell_type": "code",
   "execution_count": 19,
   "metadata": {},
   "outputs": [
    {
     "name": "stdout",
     "output_type": "stream",
     "text": [
      " eigen_values in decreasing order:\n",
      "\n",
      "---------------------------------\n",
      "Eigen_values:\n",
      "0.00013905032011075547\n",
      "\n",
      "associated vector\n",
      "[ 0.1 -0.4 -0.   0.1 -0.2 -0.  -0.2 -0.3 -0.   0.4  0.7]\n",
      "---------------------------------\n",
      "Eigen_values:\n",
      "2.2451469773107637e-05\n",
      "\n",
      "associated vector\n",
      "[-0.4 -0.5 -0.2 -0.3 -0.1  0.1  0.3  0.5 -0.3 -0.1  0.2]\n",
      "---------------------------------\n",
      "Eigen_values:\n",
      "7.757501158357632e-06\n",
      "\n",
      "associated vector\n",
      "[ 0.2  0.2  0.4  0.3 -0.1 -0.4  0.5 -0.5 -0.1  0.  -0.1]\n",
      "---------------------------------\n",
      "Eigen_values:\n",
      "1.925857250908465e-06\n",
      "\n",
      "associated vector\n",
      "[ 6.6e-01 -1.8e-01 -1.2e-01  2.3e-01  1.1e-01 -1.0e-01  8.9e-02 -4.1e-01\n",
      "  4.0e-01  2.2e-04 -3.2e-01]\n",
      "---------------------------------\n",
      "Eigen_values:\n",
      "1.1468226884292847e-06\n",
      "\n",
      "associated vector\n",
      "[-0.   0.3  0.4 -0.4  0.2  0.4 -0.3  0.4 -0.2 -0.1  0.2]\n",
      "---------------------------------\n",
      "Eigen_values:\n",
      "3.603988639586214e-20\n",
      "\n",
      "associated vector\n",
      "[-0.2 -0.1 -0.2 -0.2  0.1 -0.4  0.3  0.6 -0.1 -0.2  0.5]\n",
      "---------------------------------\n",
      "Eigen_values:\n",
      "8.070133749270178e-21\n",
      "\n",
      "associated vector\n",
      "[-0.4  0.1 -0.   0.2 -0.4 -0.1 -0.4  0.4 -0.6  0.2 -0.1]\n",
      "---------------------------------\n",
      "Eigen_values:\n",
      "7.793866497473603e-21\n",
      "\n",
      "associated vector\n",
      "[ 0.6 -0.1 -0.1 -0.1 -0.   0.2 -0.  -0.5  0.  -0.6 -0. ]\n",
      "---------------------------------\n",
      "Eigen_values:\n",
      "4.140568753402869e-21\n",
      "\n",
      "associated vector\n",
      "[ 0.5  0.3 -0.  -0.2 -0.7  0.2  0.   0.1  0.1  0.   0. ]\n",
      "---------------------------------\n",
      "Eigen_values:\n",
      "2.0133696866558533e-21\n",
      "\n",
      "associated vector\n",
      "[ 0.3  0.1 -0.2  0.4  0.1  0.6 -0.  -0.2  0.1  0.   0.1]\n",
      "---------------------------------\n",
      "Eigen_values:\n",
      "2.0133696866558533e-21\n",
      "\n",
      "associated vector\n",
      "[ 0.3  0.1 -0.2  0.4  0.1  0.6 -0.  -0.2  0.1  0.   0.1]\n"
     ]
    }
   ],
   "source": [
    "eig_pairs=[]\n",
    "for i in range (len(eig_values)):\n",
    "    if eig_values[i]<0:\n",
    "        eig_pairs.append((- eig_values[i], - eigen_vec[:, i]))\n",
    "    else:\n",
    "        eig_pairs.append((eig_values[i],eigen_vec[:, i]))\n",
    "eig_pairs=sorted(eig_pairs,key= lambda k:k[0],reverse=True)\n",
    "\n",
    "print(\" eigen_values in decreasing order:\\n\")\n",
    "for i in range (len(eig_pairs)):\n",
    "    print(\"---------------------------------\")\n",
    "    print(\"Eigen_values:\")\n",
    "    print(eig_pairs[i][0].real)\n",
    "    print(\"\\nassociated vector\")\n",
    "    print(eig_pairs[i][1].real)\n",
    "    \n"
   ]
  },
  {
   "cell_type": "markdown",
   "metadata": {},
   "source": [
    "# Analysis of LDA"
   ]
  },
  {
   "cell_type": "markdown",
   "metadata": {},
   "source": [
    "Show the explained variance by each respective eigen_vector"
   ]
  },
  {
   "cell_type": "code",
   "execution_count": 20,
   "metadata": {},
   "outputs": [
    {
     "name": "stdout",
     "output_type": "stream",
     "text": [
      "variance explained :\n",
      "\n",
      "eigen value 1 is : 80.68747738377311\n",
      "eigen value 2 is : 13.028035160991806\n",
      "eigen value 3 is : 4.501486934880918\n",
      "eigen value 4 is : 1.1175275486836702\n",
      "eigen value 5 is : 0.6654729716704788\n",
      "eigen value 6 is : 2.091305878450077e-14\n",
      "eigen value 7 is : 4.682899930468372e-15\n",
      "eigen value 8 is : 4.522588845866352e-15\n",
      "eigen value 9 is : 2.4026701080590303e-15\n",
      "eigen value 10 is : 1.1683088606183858e-15\n",
      "eigen value 11 is : 1.1683088606183858e-15\n"
     ]
    }
   ],
   "source": [
    "print(\"variance explained :\\n\")\n",
    "over_all_eigen_values=sum(eig_values)\n",
    "for i ,j in enumerate(eig_pairs):\n",
    "    print(f\"eigen value {i+1} is : {j[0].real/over_all_eigen_values.real*(100)}\")"
   ]
  },
  {
   "cell_type": "code",
   "execution_count": 21,
   "metadata": {},
   "outputs": [
    {
     "data": {
      "text/plain": [
       "(11,)"
      ]
     },
     "execution_count": 21,
     "metadata": {},
     "output_type": "execute_result"
    }
   ],
   "source": [
    "eig_pairs[0][1].shape"
   ]
  },
  {
   "cell_type": "markdown",
   "metadata": {},
   "source": [
    "# Take the frist two eigenvectors rataining the most variance \n"
   ]
  },
  {
   "cell_type": "code",
   "execution_count": 22,
   "metadata": {},
   "outputs": [
    {
     "name": "stdout",
     "output_type": "stream",
     "text": [
      "[[ 0.1 -0.4]\n",
      " [-0.4 -0.5]\n",
      " [-0.  -0.2]\n",
      " [ 0.1 -0.3]\n",
      " [-0.2 -0.1]\n",
      " [-0.   0.1]\n",
      " [-0.2  0.3]\n",
      " [-0.3  0.5]\n",
      " [-0.  -0.3]\n",
      " [ 0.4 -0.1]\n",
      " [ 0.7  0.2]]\n"
     ]
    }
   ],
   "source": [
    "w = np.hstack((eig_pairs[0][1].reshape(11, 1), eig_pairs[1][1].reshape(11, 1)))\n",
    "print(w.real)\n",
    "\n"
   ]
  },
  {
   "cell_type": "markdown",
   "metadata": {},
   "source": [
    "# Project the data onto the new axes (linear discriminants)"
   ]
  },
  {
   "cell_type": "code",
   "execution_count": 23,
   "metadata": {},
   "outputs": [
    {
     "data": {
      "text/plain": [
       "(1599, 2)"
      ]
     },
     "execution_count": 23,
     "metadata": {},
     "output_type": "execute_result"
    }
   ],
   "source": [
    "x_lda=x_std.dot(w)\n",
    "x_lda.shape"
   ]
  },
  {
   "cell_type": "markdown",
   "metadata": {},
   "source": [
    "# LDA VS.PCA"
   ]
  },
  {
   "cell_type": "code",
   "execution_count": 24,
   "metadata": {},
   "outputs": [
    {
     "data": {
      "image/png": "[encoded data removed]",
      "text/plain": [
       "<Figure size 640x480 with 1 Axes>"
      ]
     },
     "metadata": {},
     "output_type": "display_data"
    }
   ],
   "source": [
    "def plot_step_lda():\n",
    "    fig=plt.figure()\n",
    "    ax=plt.subplot(111)\n",
    "    for label,color in zip(range(3,9),('blue','red','green',\"yellow\",'black','orange')):\n",
    "        plt.scatter(x=x_lda[:,0].real[y==label],\n",
    "                    y=x_lda[:,1].real[y==label],\n",
    "                    color=color,\n",
    "                    alpha=0.5,\n",
    "                    label=label)\n",
    "    plt.xlabel('linear discriminant 1')\n",
    "    plt.ylabel('linear discriminant 2')\n",
    "    leg=plt.legend(loc='upper right',fancybox=True)\n",
    "    leg.get_frame().set_alpha(0.5)\n",
    "    #sets its transparency to 50%. This makes the legend's background slightly transparent, improving visibility of the plot behind it\n",
    "    plt.title('LDA: Wine projection onto the frist 2 linear discriminants')\n",
    "     \n",
    "    ax.spines[\"top\"].set_visible(False)   \n",
    "    ax.spines[\"bottom\"].set_visible(False)  \n",
    "    ax.spines[\"right\"].set_visible(False)  \n",
    "    ax.spines[\"left\"].set_visible(False) \n",
    "\n",
    "    plt.grid()\n",
    "    plt.show()\n",
    "\n",
    "plot_step_lda()\n",
    "# visualize the decision boundaries of the Linear Discriminant Analysis (LDA) model.\n",
    "#  This visualization helps to understand how well the LDA model is able to separate different classes\n"
   ]
  },
  {
   "cell_type": "code",
   "execution_count": 25,
   "metadata": {},
   "outputs": [],
   "source": [
    "from sklearn.decomposition import PCA\n",
    "pca=PCA(n_components=2)\n",
    "x_pca=pca.fit_transform(x_std)"
   ]
  },
  {
   "cell_type": "code",
   "execution_count": 26,
   "metadata": {},
   "outputs": [
    {
     "data": {
      "image/png": "[encoded data removed]",
      "text/plain": [
       "<Figure size 640x480 with 1 Axes>"
      ]
     },
     "metadata": {},
     "output_type": "display_data"
    }
   ],
   "source": [
    "def plot_step_pca():\n",
    "    fig=plt.figure()\n",
    "    ax=plt.subplot(111)\n",
    "    for label,color in zip(range(3,9),('blue','red','green',\"yellow\",'black','orange')):\n",
    "        plt.scatter(x=x_pca[:,0][y==label],\n",
    "                    y=x_pca[:,1][y==label],\n",
    "                    color=color,\n",
    "                    alpha=0.5,\n",
    "                    label=label)\n",
    "    plt.xlabel('principal component 1')\n",
    "    plt.ylabel('principal component 2')\n",
    "    leg=plt.legend(loc='upper right',fancybox=True)\n",
    "    leg.get_frame().set_alpha(0.5)\n",
    "    plt.title('PCA: Wine projection onto the first 2 principal components')\n",
    "     \n",
    "    ax.spines[\"top\"].set_visible(False)   \n",
    "    ax.spines[\"bottom\"].set_visible(False)\n",
    "    ax.spines[\"right\"].set_visible(False)   \n",
    "    ax.spines[\"left\"].set_visible(False)\n",
    "    plt.grid()\n",
    "    plt.show()\n",
    "plot_step_pca()"
   ]
  },
  {
   "cell_type": "code",
   "execution_count": 27,
   "metadata": {},
   "outputs": [],
   "source": [
    "x_train,x_test,y_train,y_test=train_test_split(x,y,test_size=0.2,random_state=0)\n",
    "scaler=StandardScaler()\n",
    "x_std=scaler.fit_transform(x_train)\n",
    "x_test=scaler.transform(x_test)\n"
   ]
  },
  {
   "cell_type": "markdown",
   "metadata": {},
   "source": [
    "Let me explain how using fit_transform() on test data causes data leakage with a concrete example:\n",
    "\n",
    "Let's say we have this simple dataset:\n",
    "\n",
    "```python\n",
    "# Training data\n",
    "x_train = [1, 2, 3, 4, 5]  # mean = 3, std = 1.58\n",
    "\n",
    "# Test data \n",
    "x_test = [10, 11, 12, 13, 14]  # mean = 12, std = 1.58\n",
    "```\n",
    "\n",
    "Scenario 1 (CORRECT approach - no data leakage):\n",
    "```python\n",
    "# 1. Fit and transform training data\n",
    "scaler.fit_transform(x_train)\n",
    "# Calculates mean = 3, std = 1.58\n",
    "# Transforms training data to: [-1.26, -0.63, 0, 0.63, 1.26]\n",
    "\n",
    "# 2. Only transform test data using training parameters\n",
    "scaler.transform(x_test)\n",
    "# Uses mean = 3, std = 1.58 from training data\n",
    "# Transforms test data to: [4.43, 5.06, 5.69, 6.32, 6.96]\n",
    "```\n",
    "\n",
    "Scenario 2 (WRONG approach - with data leakage):\n",
    "```python\n",
    "# 1. Fit and transform training data\n",
    "scaler.fit_transform(x_train)\n",
    "# Training data becomes: [-1.26, -0.63, 0, 0.63, 1.26]\n",
    "\n",
    "# 2. Fit and transform test data (WRONG!)\n",
    "scaler.fit_transform(x_test)\n",
    "# Calculates NEW mean = 12, std = 1.58\n",
    "# Test data becomes: [-1.26, -0.63, 0, 0.63, 1.26]\n",
    "```\n",
    "\n",
    "Why this is a problem:\n",
    "1. In Scenario 2, the test data looks artificially similar to the training data because it's been scaled using its own statistics\n",
    "2. This is \"leaking\" information because:\n",
    "   - The model sees test data that's been normalized in exactly the same way as training data\n",
    "   - In real world, you won't have access to the statistics of future data\n",
    "   - It creates an artificially optimistic scenario that won't exist in production\n",
    "\n",
    "Real-world impact example:\n",
    "```python\n",
    "# Real-world scenario with price data\n",
    "\n",
    "# Training data (2023 prices)\n",
    "prices_train = [10, 12, 15, 11, 13]  # Average = $12\n",
    "\n",
    "# Test data (2024 prices with inflation)\n",
    "prices_test = [20, 22, 25, 21, 23]   # Average = $22\n",
    "\n",
    "# WRONG approach (with leakage):\n",
    "# Both sets would be scaled to similar ranges, hiding the real price increase\n",
    "# Model wouldn't learn to handle the higher price range\n",
    "\n",
    "# CORRECT approach:\n",
    "# Test data would maintain its relative difference from training data\n",
    "# Model would learn to handle different price ranges properly\n",
    "```\n",
    "\n",
    "3. Common consequences:\n",
    "   - Model appears to perform better than it actually would in production\n",
    "   - Fails to capture real-world variations in data distribution\n",
    "   - Makes incorrect assumptions about future data\n",
    "\n",
    "This is why it's crucial to:\n",
    "1. Only fit (learn parameters) on training data\n",
    "2. Apply those same parameters to transform all other data\n",
    "3. Never let test data influence your preprocessing parameters\n",
    "\n"
   ]
  },
  {
   "cell_type": "code",
   "execution_count": 28,
   "metadata": {},
   "outputs": [],
   "source": [
    "model=SVC(kernel='linear')"
   ]
  },
  {
   "cell_type": "markdown",
   "metadata": {},
   "source": [
    "# LDA"
   ]
  },
  {
   "cell_type": "code",
   "execution_count": 29,
   "metadata": {},
   "outputs": [],
   "source": [
    "lda=LDA(n_components=2)\n",
    "x_train_lda=lda.fit_transform(x_train,y_train)\n",
    "x_test_lda=lda.transform(x_test)"
   ]
  },
  {
   "cell_type": "markdown",
   "metadata": {},
   "source": [
    "# PCA"
   ]
  },
  {
   "cell_type": "code",
   "execution_count": 30,
   "metadata": {},
   "outputs": [],
   "source": [
    "pca=PCA(n_components=2)\n",
    "x_train_pca=pca.fit_transform(x_train,y_train)\n",
    "x_test_pca=pca.transform(x_test)"
   ]
  },
  {
   "cell_type": "code",
   "execution_count": 31,
   "metadata": {},
   "outputs": [],
   "source": [
    "def train_test_lda():\n",
    "    s=[]\n",
    "    start_train_lda=time.time()\n",
    "    model.fit(x_train_lda,y_train)\n",
    "    finish_train_lda=time.time()\n",
    "\n",
    "    start_test_lda=time.time()\n",
    "    y_pred_lda=model.predict(x_test_lda)\n",
    "    finish_test_lda=time.time()\n",
    "    s.append(finish_train_lda-start_train_lda)\n",
    "    s.append(finish_test_lda-start_test_lda)\n",
    "    s.append(y_pred_lda)\n",
    "\n",
    "    return s\n",
    "    "
   ]
  },
  {
   "cell_type": "code",
   "execution_count": 32,
   "metadata": {},
   "outputs": [],
   "source": [
    "def train_test_pca():\n",
    "    a=[]\n",
    "    start_train_pca=time.time()\n",
    "    model.fit(x_train_pca,y_train)\n",
    "    finish_train_pca=time.time()\n",
    "\n",
    "    start_test_pca=time.time()\n",
    "    y_pred_pca=model.predict(x_test_pca)\n",
    "    finish_test_pca=time.time()\n",
    "    a.append(finish_train_pca-start_train_pca)\n",
    "    a.append(finish_test_pca-start_test_pca)\n",
    "    a.append(y_pred_pca)\n",
    "\n",
    "    return a"
   ]
  },
  {
   "cell_type": "markdown",
   "metadata": {},
   "source": [
    "# Analysis of the training and testing times for SVC and its accuracy "
   ]
  },
  {
   "cell_type": "code",
   "execution_count": 33,
   "metadata": {},
   "outputs": [
    {
     "name": "stdout",
     "output_type": "stream",
     "text": [
      "average time for training out of 10 runs for LDA0.04465019702911377\n",
      "average time for testing out of 10 runs for LDA0.009332776069641113\n"
     ]
    }
   ],
   "source": [
    "train_lda=0\n",
    "test_lda=0\n",
    "for i in  range (10):\n",
    "    c=train_test_lda()\n",
    "    train_lda+=c[0] # why cumulative ?\n",
    "    test_lda+=c[1]\n",
    "print(f\"average time for training out of 10 runs for LDA{train_lda/10}\")\n",
    "print(f\"average time for testing out of 10 runs for LDA{test_lda/10}\")\n"
   ]
  },
  {
   "cell_type": "code",
   "execution_count": 38,
   "metadata": {},
   "outputs": [
    {
     "name": "stdout",
     "output_type": "stream",
     "text": [
      "average time for trraining out of 10 runs for pca5.63721489906311\n",
      "average time for testing out of 10 runs for pca0.0009116172790527344\n"
     ]
    }
   ],
   "source": [
    "train_pca=0\n",
    "test_pca=0\n",
    "for i in  range (1):\n",
    "    c=train_test_pca()\n",
    "    train_pca+=c[0] # why cumulative ?\n",
    "    test_pca+=c[1]\n",
    "print(f\"average time for trraining out of 10 runs for pca{train_pca/10}\")\n",
    "print(f\"average time for testing out of 10 runs for pca{test_pca/10}\")\n"
   ]
  },
  {
   "cell_type": "code",
   "execution_count": 39,
   "metadata": {},
   "outputs": [],
   "source": [
    "lda_arrray=train_test_lda()\n",
    "pca_array=train_test_pca()"
   ]
  },
  {
   "cell_type": "code",
   "execution_count": 40,
   "metadata": {},
   "outputs": [
    {
     "name": "stdout",
     "output_type": "stream",
     "text": [
      "Confussion matrix for LDA\n",
      "[[  0   0   2   0   0   0]\n",
      " [  0   0   0  11   0   0]\n",
      " [  0   0  21 114   0   0]\n",
      " [  0   0  24 112   6   0]\n",
      " [  0   0   3  24   0   0]\n",
      " [  0   0   1   2   0   0]]\n",
      "LDA A ccuracy :0.415625\n"
     ]
    }
   ],
   "source": [
    "cm_lda=confusion_matrix(y_test,lda_arrray[2])\n",
    "print(\"Confussion matrix for LDA\")\n",
    "print(cm_lda)\n",
    "print(\"LDA A ccuracy :\"+''+str(accuracy_score(y_test,lda_arrray[2])))"
   ]
  },
  {
   "cell_type": "code",
   "execution_count": 41,
   "metadata": {},
   "outputs": [
    {
     "name": "stdout",
     "output_type": "stream",
     "text": [
      "Confussion matrix for pca\n",
      "[[  0   0   2   0   0   0]\n",
      " [  0   0   0  11   0   0]\n",
      " [  0   0  21 114   0   0]\n",
      " [  0   0  24 112   6   0]\n",
      " [  0   0   3  24   0   0]\n",
      " [  0   0   1   2   0   0]]\n",
      "pca A ccuracy :0.44375\n"
     ]
    }
   ],
   "source": [
    "cm_pca=confusion_matrix(y_test,pca_array[2])\n",
    "print(\"Confussion matrix for pca\")\n",
    "print(cm_lda)\n",
    "print(\"pca A ccuracy :\"+''+str(accuracy_score(y_test,pca_array[2])))"
   ]
  }
 ],
 "metadata": {
  "kernelspec": {
   "display_name": "base",
   "language": "python",
   "name": "python3"
  },
  "language_info": {
   "codemirror_mode": {
    "name": "ipython",
    "version": 3
   },
   "file_extension": ".py",
   "mimetype": "text/x-python",
   "name": "python",
   "nbconvert_exporter": "python",
   "pygments_lexer": "ipython3",
   "version": "3.11.5"
  }
 },
 "nbformat": 4,
 "nbformat_minor": 2
}
