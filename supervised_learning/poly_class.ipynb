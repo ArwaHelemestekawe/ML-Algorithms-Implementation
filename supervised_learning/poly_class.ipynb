{
 "cells": [
  {
   "cell_type": "code",
   "execution_count": 19,
   "metadata": {},
   "outputs": [
    {
     "name": "stdout",
     "output_type": "stream",
     "text": [
      "[[0 1]\n",
      " [2 3]\n",
      " [4 5]]\n",
      "[[ 1.  0.  1.  0.  0.  1.]\n",
      " [ 1.  2.  3.  4.  6.  9.]\n",
      " [ 1.  4.  5. 16. 20. 25.]]\n"
     ]
    }
   ],
   "source": [
    "from itertools import combinations_with_replacement\n",
    "import numpy as np\n",
    "class PolynomialF:\n",
    "    def __init__(self,degree=2):\n",
    "        self.degree = degree\n",
    "\n",
    "    def transform(self,x):\n",
    "        x= np.array(x) \n",
    "         # this line to make sure that the x is array  to apply multiplication in row and coloumns (combinations )\n",
    "        n_sampels,n_features=x.shape\n",
    "        polyfeatures=np.ones((n_sampels,1))\n",
    "        # this is the bias term  ,  this line allows me to put it in matrix not in vector\n",
    "        # 5 houses every house has 3 feature\n",
    "        # x is the  data set with ex 2features\n",
    "        for d in range(1,self.degree+1):\n",
    "            for i in combinations_with_replacement(range(n_features),d):\n",
    "                            # for i in combinations_with_replacement([0,1],2):\n",
    "                            # print(i)\n",
    "                            # the out put will be (0,0)(0,1)(1,1)\n",
    "                 new_features = np.prod(x[:,i],axis=1,keepdims=True)\n",
    "                 polyfeatures=np.c_[polyfeatures,new_features]\n",
    "        return polyfeatures  \n",
    "\n",
    "x=np.arange(6).reshape(3,2)\n",
    "poly=PolynomialF(degree=2)\n",
    "new_x=poly.transform(x)\n",
    "print(x)\n",
    "print(new_x)\n",
    "\n",
    "\n",
    "\n"
   ]
  },
  {
   "cell_type": "code",
   "execution_count": 8,
   "metadata": {},
   "outputs": [],
   "source": [
    "#x= [a,b]  \n",
    "# if he gives me one feature then my function should create x power 2\n",
    "# so if there is a and b so i should have   a^2  & b^2   with the original  a ,b \n",
    "# and ab :)\n"
   ]
  },
  {
   "cell_type": "code",
   "execution_count": null,
   "metadata": {},
   "outputs": [],
   "source": [
    "import numpy as np\n",
    "l=[\n",
    "    [1,2,3],\n",
    "    [4,5,6],\n",
    "    [7,8,9]\n",
    "]\n",
    "l=np.array(l)\n",
    "np.prod(l[:,(0,0)],axis=1,keepdims=True)\n",
    "# this line to keep result of multiplication in 2d shape\n",
    "\n"
   ]
  },
  {
   "cell_type": "code",
   "execution_count": null,
   "metadata": {},
   "outputs": [],
   "source": [
    "# الكام سطر دول بيختصرو المدعكة الي فوق بس هم حرفيا يجيبه بدايات جلطة\n",
    "from sklearn.preprocessing import PolynomialFeatures\n",
    "poly = PolynomialFeatures(degree =3,include_bias=True)\n",
    "# will include bias term\n",
    "new_x =poly.fit_transform(x)\n",
    "\n",
    "\n"
   ]
  }
 ],
 "metadata": {
  "kernelspec": {
   "display_name": "base",
   "language": "python",
   "name": "python3"
  },
  "language_info": {
   "codemirror_mode": {
    "name": "ipython",
    "version": 3
   },
   "file_extension": ".py",
   "mimetype": "text/x-python",
   "name": "python",
   "nbconvert_exporter": "python",
   "pygments_lexer": "ipython3",
   "version": "3.11.5"
  }
 },
 "nbformat": 4,
 "nbformat_minor": 2
}
